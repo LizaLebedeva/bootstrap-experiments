{
 "cells": [
  {
   "cell_type": "code",
   "execution_count": null,
   "metadata": {},
   "outputs": [],
   "source": [
    "# TO DO: \n",
    "# - add CI as variable into bootstrap methods\n",
    "# - normalize data and rerun\n",
    "# - try on other data distribution"
   ]
  },
  {
   "cell_type": "code",
   "execution_count": null,
   "metadata": {},
   "outputs": [],
   "source": [
    "import os\n",
    "import datetime\n",
    "import numpy as np\n",
    "import math\n",
    "import pandas as pd\n",
    "from scipy import stats\n",
    "from scipy.stats import ttest_ind, chisquare\n",
    "import numpy as np\n",
    "import seaborn as sns\n",
    "import matplotlib.pyplot as plt\n",
    "import json\n",
    "from math import cos, asin, sqrt\n",
    "from time import time\n",
    "sns.set(color_codes=True)\n",
    "from datetime import datetime as dt\n",
    "\n",
    "# pd.set_option(\"display.max_columns\", 999)\n",
    "pd.set_option(\"display.max_rows\", 300)\n",
    "# pd.set_option('display.max_colwidth', -1)\n",
    "pd.set_option('display.max_seq_items', 999)\n",
    "import plotly.graph_objects as go"
   ]
  },
  {
   "cell_type": "code",
   "execution_count": null,
   "metadata": {},
   "outputs": [],
   "source": [
    "df_all = pd.read_csv('yellow_tripdata_2019-06.csv', usecols = ['tpep_pickup_datetime', 'total_amount'], parse_dates=['tpep_pickup_datetime'])\n",
    "# df_all = pd.read_csv('https://s3.amazonaws.com/nyc-tlc/trip+data/yellow_tripdata_2019-06.csv')\n",
    "# https://www1.nyc.gov/site/tlc/about/tlc-trip-record-data.page\n",
    "# https://s3.amazonaws.com/nyc-tlc/trip+data/yellow_tripdata_2019-06.csv\n",
    "df_all\n"
   ]
  },
  {
   "cell_type": "code",
   "execution_count": null,
   "metadata": {},
   "outputs": [],
   "source": [
    "df_all.describe()"
   ]
  },
  {
   "cell_type": "code",
   "execution_count": null,
   "metadata": {},
   "outputs": [],
   "source": [
    "# there are some outliers, remove them. In addition, leave oonly positive amounts"
   ]
  },
  {
   "cell_type": "code",
   "execution_count": null,
   "metadata": {},
   "outputs": [],
   "source": [
    "outliers_limit = df_all.total_amount.quantile(0.999)"
   ]
  },
  {
   "cell_type": "code",
   "execution_count": null,
   "metadata": {},
   "outputs": [],
   "source": [
    "df_all = df_all[df_all.total_amount.between(0,outliers_limit, inclusive=False)]"
   ]
  },
  {
   "cell_type": "code",
   "execution_count": null,
   "metadata": {},
   "outputs": [],
   "source": [
    "df_all.total_amount.plot.hist()"
   ]
  },
  {
   "cell_type": "code",
   "execution_count": null,
   "metadata": {},
   "outputs": [],
   "source": [
    "df_all['date'] = df_all['tpep_pickup_datetime'].dt.normalize()"
   ]
  },
  {
   "cell_type": "code",
   "execution_count": null,
   "metadata": {},
   "outputs": [],
   "source": [
    "# remove not june data\n",
    "df_all = df_all[df_all.date.between('2019-06-01', '2019-06-30', inclusive=True)]"
   ]
  },
  {
   "cell_type": "code",
   "execution_count": null,
   "metadata": {},
   "outputs": [],
   "source": [
    "df_all.shape"
   ]
  },
  {
   "cell_type": "code",
   "execution_count": null,
   "metadata": {},
   "outputs": [],
   "source": [
    "# all bootstrapping will be done on subset of data\n",
    "\n",
    "df = df_all.sample(frac=0.05).reset_index(drop=True).rename(columns={'total_amount':'metric'})\n",
    "df.shape"
   ]
  },
  {
   "cell_type": "code",
   "execution_count": null,
   "metadata": {},
   "outputs": [],
   "source": [
    "df.metric.plot.hist()\n",
    "\n",
    "plt.title('Metric distribution')\n",
    "plt.show()"
   ]
  },
  {
   "cell_type": "code",
   "execution_count": null,
   "metadata": {},
   "outputs": [],
   "source": [
    "# full year data set\n",
    "# df_all = pd.read_csv('2018_Yellow_Taxi_Trip_Data.csv')\n",
    "# https://data.cityofnewyork.us/Transportation/2018-Yellow-Taxi-Trip-Data/t29m-gskq\n"
   ]
  },
  {
   "cell_type": "code",
   "execution_count": null,
   "metadata": {},
   "outputs": [],
   "source": [
    "# groups = 3\n",
    "# df['group'] = 'a'\n",
    "# df.loc[round(df.shape[0])*0.2:, 'group'] = 'b'\n",
    "# df.loc[round(df.shape[0])*0.6:, 'group'] = 'c'"
   ]
  },
  {
   "cell_type": "code",
   "execution_count": null,
   "metadata": {},
   "outputs": [],
   "source": [
    "# groups = 2\n",
    "# df['group'] = 'a'\n",
    "# df.loc[round(df.shape[0])*0.5:, 'group'] = 'b'"
   ]
  },
  {
   "cell_type": "code",
   "execution_count": null,
   "metadata": {},
   "outputs": [],
   "source": [
    "# df.groupby('group').metric.count()"
   ]
  },
  {
   "cell_type": "code",
   "execution_count": null,
   "metadata": {},
   "outputs": [],
   "source": [
    "# implement https://ocw.mit.edu/courses/mathematics/18-05-introduction-to-probability-and-statistics-spring-2014/readings/MIT18_05S14_Reading24.pdf"
   ]
  },
  {
   "cell_type": "code",
   "execution_count": null,
   "metadata": {},
   "outputs": [],
   "source": [
    "# averages\n",
    "# df.groupby('group').metric.mean()"
   ]
  },
  {
   "cell_type": "code",
   "execution_count": null,
   "metadata": {},
   "outputs": [],
   "source": [
    "df_all.total_amount.describe()"
   ]
  },
  {
   "cell_type": "code",
   "execution_count": null,
   "metadata": {},
   "outputs": [],
   "source": [
    "df.metric.describe()"
   ]
  },
  {
   "cell_type": "code",
   "execution_count": null,
   "metadata": {},
   "outputs": [],
   "source": [
    "ttest_ind(df_all.total_amount,df.metric)"
   ]
  },
  {
   "cell_type": "code",
   "execution_count": null,
   "metadata": {},
   "outputs": [],
   "source": [
    "sns.distplot(df_all.total_amount)\n",
    "sns.distplot(df.metric)\n",
    "plt.title('Compare distributions')\n",
    "plt.show()"
   ]
  },
  {
   "cell_type": "markdown",
   "metadata": {},
   "source": [
    "### Estimate the mean μ of the underlying distribution and give an 95% bootstrap confidence interval.\n"
   ]
  },
  {
   "cell_type": "code",
   "execution_count": null,
   "metadata": {},
   "outputs": [],
   "source": [
    "# df_a = df[df.group=='a']\n",
    "\n",
    "obs_mean = df.metric.mean()\n",
    "obs_mean"
   ]
  },
  {
   "cell_type": "code",
   "execution_count": null,
   "metadata": {
    "scrolled": true
   },
   "outputs": [],
   "source": [
    "# generate 100 bootstrap samples, each of size df, compute mean for each\n",
    "\n",
    "n_bootstraps = 100\n",
    "\n",
    "# empirical (or pivotal)\n",
    "\n",
    "def empirical_bootstrap(series, obs_mean, return_bounds=True, n_bootstraps = 100, random=100, verbose=False):\n",
    "    means = []\n",
    "    for random in range(n_bootstraps):\n",
    "        bootstrap = series.sample(n=series.shape[0], replace=True, random_state=random)\n",
    "        bootstrap_mean = bootstrap.mean()\n",
    "        means.append(bootstrap_mean)\n",
    "\n",
    "    means = np.array(means)\n",
    "    # compute δ∗ = x∗ − x for each bootstrap sample (i.e. each column) and sort them from smallest to biggest:\n",
    "    diff = means - obs_mean\n",
    "    diff.sort()\n",
    "    if verbose:\n",
    "        plt.hist(diff)\n",
    "        plt.show()\n",
    "        \n",
    "    percentile_upper = np.percentile(diff, 2.5)\n",
    "    percentile_lower = np.percentile(diff, 97.5)\n",
    "#     print(percentile_upper, percentile_lower)\n",
    "    empirical_lower = obs_mean - percentile_lower\n",
    "    empirical_upper = obs_mean - percentile_upper\n",
    "    if return_bounds:\n",
    "        return(empirical_lower, empirical_upper)\n",
    "    else:\n",
    "        return(percentile_upper*(-1), percentile_lower)"
   ]
  },
  {
   "cell_type": "code",
   "execution_count": null,
   "metadata": {},
   "outputs": [],
   "source": [
    "empirical_bootstrap(df.metric, obs_mean, return_bounds=False, n_bootstraps = 100)"
   ]
  },
  {
   "cell_type": "code",
   "execution_count": null,
   "metadata": {},
   "outputs": [],
   "source": [
    "def percentile_bootstrap(series, obs_mean, return_bounds=True, n_bootstraps = 100, random=100):\n",
    "    means = []\n",
    "    for random in range(n_bootstraps):\n",
    "        bootstrap = series.sample(n=series.shape[0], replace=True, random_state=random)\n",
    "        bootstrap_mean = bootstrap.mean()\n",
    "        means.append(bootstrap_mean)\n",
    "\n",
    "    means = np.array(means)\n",
    "    means.sort()\n",
    "    percentile_lower = np.percentile(means, 2.5)\n",
    "    percentile_upper = np.percentile(means, 97.5)\n",
    "    if return_bounds:\n",
    "        return(percentile_lower, percentile_upper)\n",
    "    else:\n",
    "        return(obs_mean-percentile_lower, percentile_upper-obs_mean)"
   ]
  },
  {
   "cell_type": "code",
   "execution_count": null,
   "metadata": {},
   "outputs": [],
   "source": [
    "# compare with percentile bootstrap\n",
    "percentile_bootstrap(df.metric, obs_mean, return_bounds=False, n_bootstraps = 100, random=100)"
   ]
  },
  {
   "cell_type": "code",
   "execution_count": null,
   "metadata": {},
   "outputs": [],
   "source": [
    "def calculate_ci(sample, confidence = 0.95):\n",
    "    n = sample.count()\n",
    "    stdev = sample.std()\n",
    "    test_stat = stats.norm.ppf((confidence + 1)/2)\n",
    "    standard_error = test_stat * stdev / math.sqrt(n)\n",
    "    return standard_error\n"
   ]
  },
  {
   "cell_type": "code",
   "execution_count": null,
   "metadata": {},
   "outputs": [],
   "source": [
    "ci_lower = df.metric.mean() - calculate_ci(df.metric)\n",
    "ci_upper = df.metric.mean() + calculate_ci(df.metric)\n",
    "ci_lower, ci_upper"
   ]
  },
  {
   "cell_type": "code",
   "execution_count": null,
   "metadata": {},
   "outputs": [],
   "source": [
    "# normal bootstrap (how we usually do. The only difference that I take mean as mean of bootstrap runs, not observational\n",
    "def ci_bootstrap(series, n_bootstraps = 100, return_bounds = True, random=100):\n",
    "    means = []\n",
    "    for random in range(n_bootstraps):\n",
    "        bootstrap = series.sample(n=series.shape[0], replace=True, random_state=random)\n",
    "        bootstrap_mean = bootstrap.mean()\n",
    "        means.append(bootstrap_mean)\n",
    "\n",
    "    means = np.array(means)\n",
    "    ci_lower = means.mean() - calculate_ci(pd.Series(means))\n",
    "    ci_upper = means.mean() + calculate_ci(pd.Series(means))\n",
    "    if return_bounds:\n",
    "        return(means.mean(), ci_lower, ci_upper)\n",
    "    else:\n",
    "        return(means.mean(), calculate_ci(pd.Series(means)), calculate_ci(pd.Series(means)))"
   ]
  },
  {
   "cell_type": "code",
   "execution_count": null,
   "metadata": {},
   "outputs": [],
   "source": [
    "ci_bootstrap(df.metric, return_bounds=False)"
   ]
  },
  {
   "cell_type": "code",
   "execution_count": null,
   "metadata": {},
   "outputs": [],
   "source": [
    "# # plt.bar(x=1, height = obs_mean)\n",
    "# plt.errorbar(x=1, y = obs_mean, yerr=[[lower], [-1*upper]], fmt='o', color='green')\n",
    "# plt.errorbar(x=2, y = obs_mean, yerr=[[obs_mean-lower_p], [upper_p-obs_mean]], fmt='o', color='green')\n",
    "# plt.errorbar(x=3, y = obs_mean, yerr=[[calculate_ci(pd.Series(means))], [calculate_ci(pd.Series(means))]], fmt='o', color='green')\n",
    "# plt.show()"
   ]
  },
  {
   "cell_type": "code",
   "execution_count": null,
   "metadata": {},
   "outputs": [],
   "source": [
    "population_mean = df_all.total_amount.mean()\n",
    "methods = ['empirical', 'percentile', 'normal', 'ci', 'population_mean']\n",
    "means = [obs_mean, obs_mean, ci_bootstrap(df.metric)[0], obs_mean, population_mean]\n",
    "\n",
    "lower = [empirical_bootstrap(df.metric, obs_mean, return_bounds=False, n_bootstraps = 100)[0],\n",
    "        percentile_bootstrap(df.metric, obs_mean, return_bounds=False, n_bootstraps = 100, random=100)[0],\n",
    "        ci_bootstrap(df.metric, return_bounds=False)[1],\n",
    "        calculate_ci(df.metric),\n",
    "        calculate_ci(df_all.total_amount)]\n",
    "\n",
    "upper = [empirical_bootstrap(df.metric, obs_mean, return_bounds=False, n_bootstraps = 100)[1],\n",
    "        percentile_bootstrap(df.metric, obs_mean, return_bounds=False, n_bootstraps = 100, random=100)[1],\n",
    "        ci_bootstrap(df.metric, return_bounds=False)[2],\n",
    "        calculate_ci(df.metric),\n",
    "        calculate_ci(df_all.total_amount)]\n"
   ]
  },
  {
   "cell_type": "code",
   "execution_count": null,
   "metadata": {},
   "outputs": [],
   "source": [
    "results = pd.DataFrame([methods, means, lower, upper]).transpose()\n",
    "results.columns = ['method', 'mean', 'lower', 'upper']\n",
    "results"
   ]
  },
  {
   "cell_type": "code",
   "execution_count": null,
   "metadata": {},
   "outputs": [],
   "source": [
    "fig = go.Figure(data=go.Scatter( # Bar or Scatter\n",
    "        x=methods,\n",
    "        y=means,\n",
    "        error_y=dict(\n",
    "            type='data', \n",
    "            symmetric=False,\n",
    "            array=upper,\n",
    "            arrayminus=lower)\n",
    "    )\n",
    "                , layout ={ \"title\": f'Bootstrap Samples = {n_bootstraps}'\n",
    "                           ,\"width\": 640\n",
    "#                            , \"yaxis\": {\"range\": [19.5,20]}\n",
    "                          }\n",
    "                           )\n",
    "\n",
    "fig.show()"
   ]
  },
  {
   "cell_type": "code",
   "execution_count": null,
   "metadata": {},
   "outputs": [],
   "source": [
    "# TO DO\n",
    "# compare how it decreases with incresing bootstrap numbers\n",
    "# another approach to take random"
   ]
  },
  {
   "cell_type": "markdown",
   "metadata": {},
   "source": [
    "### Experiment with bootsrtap sample numbers"
   ]
  },
  {
   "cell_type": "code",
   "execution_count": null,
   "metadata": {
    "scrolled": false
   },
   "outputs": [],
   "source": [
    "# try different bootsrtap sample numbers\n",
    "for n_bootstraps in [50, 100, 200, 500, 1000]:\n",
    "\n",
    "    means = [obs_mean, obs_mean, ci_bootstrap(df.metric)[0], obs_mean]\n",
    "\n",
    "    lower = [empirical_bootstrap(df.metric, obs_mean, return_bounds=False, n_bootstraps = n_bootstraps)[0],\n",
    "            percentile_bootstrap(df.metric, obs_mean, return_bounds=False, n_bootstraps = n_bootstraps, random=100)[0],\n",
    "            ci_bootstrap(df.metric, return_bounds=False, n_bootstraps=n_bootstraps)[1],\n",
    "            calculate_ci(df.metric)]\n",
    "\n",
    "    upper = [empirical_bootstrap(df.metric, obs_mean, return_bounds=False, n_bootstraps = n_bootstraps)[1],\n",
    "            percentile_bootstrap(df.metric, obs_mean, return_bounds=False, n_bootstraps = n_bootstraps, random=100)[1],\n",
    "            ci_bootstrap(df.metric, return_bounds=False, n_bootstraps=n_bootstraps)[2],\n",
    "            calculate_ci(df.metric)]\n",
    "    fig = go.Figure(data=go.Scatter( # Bar or Scatter\n",
    "        y=methods,\n",
    "        x=means,\n",
    "            error_x=dict(\n",
    "                type='data', \n",
    "                symmetric=False,\n",
    "                array=upper,\n",
    "                arrayminus=lower)\n",
    "        )\n",
    "                    , layout ={ \"title\": f'Bootstrap Samples = {n_bootstraps}'\n",
    "                               ,\"width\": 640\n",
    "    #                            , \"yaxis\": {\"range\": [19.5,20]}\n",
    "                              }\n",
    "                               )\n",
    "\n",
    "    fig.show()\n",
    "    results = pd.DataFrame([methods, means, lower, upper]).transpose()\n",
    "    results.columns = ['method', 'mean', 'lower', 'upper']\n",
    "    display(results)"
   ]
  },
  {
   "cell_type": "markdown",
   "metadata": {},
   "source": [
    "### Experiment with different sample size"
   ]
  },
  {
   "cell_type": "code",
   "execution_count": null,
   "metadata": {
    "scrolled": false
   },
   "outputs": [],
   "source": [
    "# experiment with different sample size\n",
    "for size in [50, 100, 500, 1000, 10000, 20000, 50000]:\n",
    "    n_bootstraps = 500\n",
    "    df = df_all.sample(n=size).reset_index(drop=True).rename(columns={'total_amount':'metric'})\n",
    "    obs_mean = df.metric.mean()\n",
    "    \n",
    "    means = [obs_mean, obs_mean, ci_bootstrap(df.metric)[0], obs_mean]\n",
    "\n",
    "    lower = [empirical_bootstrap(df.metric, obs_mean, return_bounds=False, n_bootstraps = n_bootstraps)[0],\n",
    "            percentile_bootstrap(df.metric, obs_mean, return_bounds=False, n_bootstraps = n_bootstraps, random=100)[0],\n",
    "            ci_bootstrap(df.metric, return_bounds=False, n_bootstraps=n_bootstraps)[1],\n",
    "            calculate_ci(df.metric)]\n",
    "\n",
    "    upper = [empirical_bootstrap(df.metric, obs_mean, return_bounds=False, n_bootstraps = n_bootstraps)[1],\n",
    "            percentile_bootstrap(df.metric, obs_mean, return_bounds=False, n_bootstraps = n_bootstraps, random=100)[1],\n",
    "            ci_bootstrap(df.metric, return_bounds=False, n_bootstraps=n_bootstraps)[2],\n",
    "            calculate_ci(df.metric)]\n",
    "    fig = go.Figure(data=go.Scatter( # Bar or Scatter\n",
    "        y=methods,\n",
    "        x=means,\n",
    "            error_x=dict(\n",
    "                type='data', \n",
    "                symmetric=False,\n",
    "                array=upper,\n",
    "                arrayminus=lower)\n",
    "        )\n",
    "                    , layout ={ \"title\": f'Samples in data = {size}'\n",
    "                               ,\"width\": 640\n",
    "                               , \"xaxis\": {\"range\": [13,24]}\n",
    "                              }\n",
    "                               )\n",
    "\n",
    "    fig.show()\n",
    "    results = pd.DataFrame([methods, means, lower, upper]).transpose()\n",
    "    results.columns = ['method', 'mean', 'lower', 'upper']\n",
    "    display(results)"
   ]
  },
  {
   "cell_type": "markdown",
   "metadata": {},
   "source": [
    "### Experiment with random state"
   ]
  },
  {
   "cell_type": "code",
   "execution_count": null,
   "metadata": {
    "scrolled": false
   },
   "outputs": [],
   "source": [
    "# try different bootsrtap sample numbers\n",
    "for random in [1,4,7,134, 7653, 2456]:\n",
    "    n_bootstraps = 500\n",
    "    df = df_all.sample(frac = 0.05).reset_index(drop=True).rename(columns={'total_amount':'metric'})\n",
    "    obs_mean = df.metric.mean()\n",
    "    means = [obs_mean, obs_mean, ci_bootstrap(df.metric)[0], obs_mean]\n",
    "\n",
    "    lower = [empirical_bootstrap(df.metric, obs_mean, return_bounds=False, n_bootstraps = n_bootstraps, random=random)[0],\n",
    "            percentile_bootstrap(df.metric, obs_mean, return_bounds=False, n_bootstraps = n_bootstraps, random=random)[0],\n",
    "            ci_bootstrap(df.metric, return_bounds=False, n_bootstraps=n_bootstraps, random=random)[1],\n",
    "            calculate_ci(df.metric)]\n",
    "\n",
    "    upper = [empirical_bootstrap(df.metric, obs_mean, return_bounds=False, n_bootstraps = n_bootstraps, random=random)[1],\n",
    "            percentile_bootstrap(df.metric, obs_mean, return_bounds=False, n_bootstraps = n_bootstraps, random=random)[1],\n",
    "            ci_bootstrap(df.metric, return_bounds=False, n_bootstraps=n_bootstraps, random=random)[2],\n",
    "            calculate_ci(df.metric)]\n",
    "    fig = go.Figure(data=go.Scatter( # Bar or Scatter\n",
    "        y=methods,\n",
    "        x=means,\n",
    "            error_x=dict(\n",
    "                type='data', \n",
    "                symmetric=False,\n",
    "                array=upper,\n",
    "                arrayminus=lower)\n",
    "        )\n",
    "                    , layout ={ \"title\": f'Random State = {random}'\n",
    "                               ,\"width\": 640\n",
    "                               , \"xaxis\": {\"range\": [19.3,20]}\n",
    "                              }\n",
    "                               )\n",
    "\n",
    "    fig.show()\n",
    "    results = pd.DataFrame([methods, means, lower, upper]).transpose()\n",
    "    results.columns = ['method', 'mean', 'lower', 'upper']\n",
    "    display(results)"
   ]
  },
  {
   "cell_type": "code",
   "execution_count": null,
   "metadata": {},
   "outputs": [],
   "source": [
    "df_all['total_amount'].mean() - calculate_ci(pd.Series(df_all['total_amount'])), df_all['total_amount'].mean() + calculate_ci(pd.Series(df_all['total_amount']))"
   ]
  },
  {
   "cell_type": "code",
   "execution_count": null,
   "metadata": {},
   "outputs": [],
   "source": [
    "19.6053-0.0494632,19.6053+0.0482493"
   ]
  },
  {
   "cell_type": "code",
   "execution_count": null,
   "metadata": {},
   "outputs": [],
   "source": [
    "19.6038-0.0021766,19.6038+0.0021766"
   ]
  },
  {
   "cell_type": "code",
   "execution_count": null,
   "metadata": {},
   "outputs": [],
   "source": []
  }
 ],
 "metadata": {
  "hide_input": false,
  "kernelspec": {
   "display_name": "Python 3",
   "language": "python",
   "name": "python3"
  },
  "language_info": {
   "codemirror_mode": {
    "name": "ipython",
    "version": 3
   },
   "file_extension": ".py",
   "mimetype": "text/x-python",
   "name": "python",
   "nbconvert_exporter": "python",
   "pygments_lexer": "ipython3",
   "version": "3.7.1"
  },
  "varInspector": {
   "cols": {
    "lenName": 16,
    "lenType": 16,
    "lenVar": 40
   },
   "kernels_config": {
    "python": {
     "delete_cmd_postfix": "",
     "delete_cmd_prefix": "del ",
     "library": "var_list.py",
     "varRefreshCmd": "print(var_dic_list())"
    },
    "r": {
     "delete_cmd_postfix": ") ",
     "delete_cmd_prefix": "rm(",
     "library": "var_list.r",
     "varRefreshCmd": "cat(var_dic_list()) "
    }
   },
   "types_to_exclude": [
    "module",
    "function",
    "builtin_function_or_method",
    "instance",
    "_Feature"
   ],
   "window_display": false
  }
 },
 "nbformat": 4,
 "nbformat_minor": 2
}
