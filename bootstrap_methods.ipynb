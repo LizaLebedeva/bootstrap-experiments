{
 "cells": [
  {
   "cell_type": "code",
   "execution_count": null,
   "metadata": {},
   "outputs": [],
   "source": [
    "from IPython.display import HTML, display\n",
    "import os\n",
    "import datetime\n",
    "import numpy as np\n",
    "import math\n",
    "import pandas as pd\n",
    "from scipy import stats\n",
    "from scipy.stats import ttest_ind, chisquare\n",
    "import numpy as np\n",
    "import seaborn as sns\n",
    "import matplotlib.pyplot as plt\n",
    "import json\n",
    "from math import cos, asin, sqrt\n",
    "from time import time\n",
    "sns.set(color_codes=True)\n",
    "from datetime import datetime as dt\n",
    "\n",
    "# pd.set_option(\"display.max_columns\", 999)\n",
    "pd.set_option(\"display.max_rows\", 300)\n",
    "# pd.set_option('display.max_colwidth', -1)\n",
    "pd.set_option('display.max_seq_items', 999)\n",
    "import plotly.graph_objects as go"
   ]
  },
  {
   "cell_type": "code",
   "execution_count": null,
   "metadata": {},
   "outputs": [],
   "source": [
    "HTML('''<script>\n",
    "code_show=true; \n",
    "function code_toggle() {\n",
    "    if (code_show){\n",
    "        $('div.input').hide();\n",
    "        $('.debug').closest(\".output_wrapper\").hide();\n",
    "    } else {\n",
    "        $('div.input').show();\n",
    "        $('.debug').closest(\".output_wrapper\").show();\n",
    "    }\n",
    "    code_show = !code_show\n",
    "} \n",
    "$( document ).ready(code_toggle);\n",
    "</script>\n",
    "<form action=\"javascript:code_toggle()\"><input type=\"submit\" value=\"Toggle code view\"></form>''')"
   ]
  },
  {
   "cell_type": "code",
   "execution_count": null,
   "metadata": {},
   "outputs": [],
   "source": [
    "# df_all = pd.read_csv('yellow_tripdata_2019-06.csv', usecols = ['tpep_pickup_datetime', 'total_amount'], parse_dates=['tpep_pickup_datetime'])\n",
    "df_all = pd.read_csv('https://s3.amazonaws.com/nyc-tlc/trip+data/yellow_tripdata_2019-06.csv')\n",
    "# https://www1.nyc.gov/site/tlc/about/tlc-trip-record-data.page\n",
    "# https://s3.amazonaws.com/nyc-tlc/trip+data/yellow_tripdata_2019-06.csv"
   ]
  },
  {
   "cell_type": "code",
   "execution_count": null,
   "metadata": {},
   "outputs": [],
   "source": [
    "outliers_limit = df_all.total_amount.quantile(0.999)"
   ]
  },
  {
   "cell_type": "code",
   "execution_count": null,
   "metadata": {},
   "outputs": [],
   "source": [
    "df_all = df_all[df_all.total_amount.between(0,outliers_limit, inclusive=False)]"
   ]
  },
  {
   "cell_type": "code",
   "execution_count": null,
   "metadata": {},
   "outputs": [],
   "source": [
    "df_all['date'] = df_all['tpep_pickup_datetime'].dt.normalize()"
   ]
  },
  {
   "cell_type": "code",
   "execution_count": null,
   "metadata": {},
   "outputs": [],
   "source": [
    "df_all['week'] = df_all['tpep_pickup_datetime'].dt.week"
   ]
  },
  {
   "cell_type": "code",
   "execution_count": null,
   "metadata": {},
   "outputs": [],
   "source": [
    "# remove not june data\n",
    "df_all = df_all[df_all.date.between('2019-06-01', '2019-06-30', inclusive=True)]"
   ]
  },
  {
   "cell_type": "code",
   "execution_count": null,
   "metadata": {},
   "outputs": [],
   "source": [
    "# all bootstrapping will be done on subset of data\n",
    "\n",
    "df = df_all.sample(frac=0.05).reset_index(drop=True).rename(columns={'total_amount':'metric'})\n",
    "df.shape"
   ]
  },
  {
   "cell_type": "markdown",
   "metadata": {},
   "source": [
    "# Estimate the mean μ of the distribution and give 95% bootstrap confidence interval.\n"
   ]
  },
  {
   "cell_type": "code",
   "execution_count": null,
   "metadata": {},
   "outputs": [],
   "source": [
    "obs_mean = df.metric.mean()\n"
   ]
  },
  {
   "cell_type": "code",
   "execution_count": null,
   "metadata": {},
   "outputs": [],
   "source": [
    "# generate  bootstrap samples, each of size df, compute mean for each\n",
    "\n",
    "n_bootstraps = 100\n",
    "\n",
    "# empirical (or pivotal)\n",
    "\n",
    "def empirical_bootstrap(series, obs_metric, aggfunc = 'mean', return_bounds=True, n_bootstraps = 100, random=100, \n",
    "                        verbose=False):\n",
    "    bootstrap_metrics = []\n",
    "    for random in range(n_bootstraps):\n",
    "        bootstrap = series.sample(n=series.shape[0], replace=True, random_state=random)\n",
    "        bootstrap_metric = bootstrap.agg(aggfunc)\n",
    "        bootstrap_metrics.append(bootstrap_metric)\n",
    "\n",
    "    bootstrap_metrics = np.array(bootstrap_metrics)\n",
    "    # compute δ∗ = x∗ − x for each bootstrap sample (i.e. each column) and sort them from smallest to biggest:\n",
    "    diff = bootstrap_metrics - obs_metric\n",
    "    diff.sort()\n",
    "    if verbose:\n",
    "        plt.hist(diff)\n",
    "        plt.show()\n",
    "        \n",
    "    percentile_upper = np.percentile(diff, 2.5)\n",
    "    percentile_lower = np.percentile(diff, 97.5)\n",
    "#     print(percentile_upper, percentile_lower)\n",
    "    empirical_lower = obs_metric - percentile_lower\n",
    "    empirical_upper = obs_metric - percentile_upper\n",
    "    if return_bounds:\n",
    "        return(empirical_lower, empirical_upper)\n",
    "    else:\n",
    "        return(percentile_upper*(-1), percentile_lower)"
   ]
  },
  {
   "cell_type": "code",
   "execution_count": null,
   "metadata": {},
   "outputs": [],
   "source": [
    "def percentile_bootstrap(series, obs_metric, aggfunc = 'mean', return_bounds=True, n_bootstraps = 100, random=100):\n",
    "    bootstrap_metrics = []\n",
    "    for random in range(n_bootstraps):\n",
    "        bootstrap = series.sample(n=series.shape[0], replace=True, random_state=random)\n",
    "        bootstrap_metric = bootstrap.agg(aggfunc)\n",
    "        bootstrap_metrics.append(bootstrap_metric)\n",
    "\n",
    "    bootstrap_metrics = np.array(bootstrap_metrics)\n",
    "    bootstrap_metrics.sort()\n",
    "    percentile_lower = np.percentile(bootstrap_metrics, 2.5)\n",
    "    percentile_upper = np.percentile(bootstrap_metrics, 97.5)\n",
    "    if return_bounds:\n",
    "        return(percentile_lower, percentile_upper)\n",
    "    else:\n",
    "        return(obs_metric-percentile_lower, percentile_upper-obs_metric)"
   ]
  },
  {
   "cell_type": "code",
   "execution_count": null,
   "metadata": {},
   "outputs": [],
   "source": [
    "def calculate_ci(sample, confidence = 0.95):\n",
    "    n = sample.count()\n",
    "    stdev = sample.std()\n",
    "    test_stat = stats.norm.ppf((confidence + 1)/2)\n",
    "    standard_error = test_stat * stdev / math.sqrt(n)\n",
    "    return standard_error\n"
   ]
  },
  {
   "cell_type": "code",
   "execution_count": null,
   "metadata": {},
   "outputs": [],
   "source": [
    "ci_lower = df.metric.mean() - calculate_ci(df.metric)\n",
    "ci_upper = df.metric.mean() + calculate_ci(df.metric)\n"
   ]
  },
  {
   "cell_type": "code",
   "execution_count": null,
   "metadata": {},
   "outputs": [],
   "source": [
    "# normal bootstrap (how we usually do. \n",
    "# The only difference that I take mean as mean of bootstrap runs, not observational\n",
    "\n",
    "def se_for_normal_bootstrap(sample, confidence = 0.95):\n",
    "    n = sample.count()\n",
    "    stdev = sample.std()\n",
    "    test_stat = stats.norm.ppf((confidence + 1)/2)\n",
    "    standard_error = test_stat * stdev #/ math.sqrt(n) \n",
    "#     У Вассермана в формуле нигде не видно, что стандарт еррор надо делить на квадртный корень кол-ва сэмплов. Если писать как в учебнике, то все не так плохо.\n",
    "    return standard_error\n",
    "\n",
    "# version of normal bootstrap from Wasserman book\n",
    "def normal_interval_bootstrap(series, aggfunc = 'mean', n_bootstraps = 100, return_bounds = True, random=100):\n",
    "    bootstrap_metrics = []\n",
    "    for random in range(n_bootstraps):\n",
    "        bootstrap = series.sample(n=series.shape[0], replace=True, random_state=random)\n",
    "        bootstrap_metric = bootstrap.agg(aggfunc)\n",
    "        bootstrap_metrics.append(bootstrap_metric)\n",
    "\n",
    "    bootstrap_metrics = pd.Series(bootstrap_metrics)\n",
    "    ci_lower = bootstrap_metrics.agg(aggfunc) - se_for_normal_bootstrap(bootstrap_metrics)\n",
    "    ci_upper = bootstrap_metrics.agg(aggfunc) + se_for_normal_bootstrap(bootstrap_metrics)\n",
    "    if return_bounds:\n",
    "        return(bootstrap_metrics.mean(), ci_lower, ci_upper)\n",
    "    else:\n",
    "        return(bootstrap_metrics.mean(), se_for_normal_bootstrap(bootstrap_metrics), se_for_normal_bootstrap(bootstrap_metrics))"
   ]
  },
  {
   "cell_type": "code",
   "execution_count": null,
   "metadata": {},
   "outputs": [],
   "source": [
    "def ci_bootstrap(series, aggfunc = 'mean', n_bootstraps = 100, return_bounds = True, random=100):\n",
    "    bootstrap_metrics = []\n",
    "    for random in range(n_bootstraps):\n",
    "        bootstrap = series.sample(n=series.shape[0], replace=True, random_state=random)\n",
    "        bootstrap_metric = bootstrap.agg(aggfunc)\n",
    "        bootstrap_metrics.append(bootstrap_metric)\n",
    "\n",
    "    bootstrap_metrics = pd.Series(bootstrap_metrics)\n",
    "    ci_lower = bootstrap_metrics.agg(aggfunc) - calculate_ci(bootstrap_metrics)\n",
    "    ci_upper = bootstrap_metrics.agg(aggfunc) + calculate_ci(bootstrap_metrics)\n",
    "    if return_bounds:\n",
    "        return(bootstrap_metrics.mean(), ci_lower, ci_upper)\n",
    "    else:\n",
    "        return(bootstrap_metrics.mean(), calculate_ci(bootstrap_metrics), calculate_ci(bootstrap_metrics))"
   ]
  },
  {
   "cell_type": "markdown",
   "metadata": {},
   "source": [
    "## Compare 3 methods"
   ]
  },
  {
   "cell_type": "code",
   "execution_count": null,
   "metadata": {},
   "outputs": [],
   "source": [
    "population_mean = df_all.total_amount.mean()\n",
    "methods = ['empirical', 'percentile', 'normal_interval','normal', 'ci']\n",
    "means = [obs_mean, obs_mean, obs_mean, ci_bootstrap(df.metric)[0], obs_mean]\n",
    "\n",
    "lower = [empirical_bootstrap(df.metric, obs_mean, return_bounds=False, n_bootstraps = 100)[0],\n",
    "        percentile_bootstrap(df.metric, obs_mean, return_bounds=False, n_bootstraps = 100, random=100)[0],\n",
    "        normal_interval_bootstrap(df.metric, return_bounds=False, n_bootstraps = 100, random=100)[1],\n",
    "        ci_bootstrap(df.metric, return_bounds=False)[1],\n",
    "        calculate_ci(df.metric)]\n",
    "\n",
    "upper = [empirical_bootstrap(df.metric, obs_mean, return_bounds=False, n_bootstraps = 100)[1],\n",
    "        percentile_bootstrap(df.metric, obs_mean, return_bounds=False, n_bootstraps = 100, random=100)[1],\n",
    "        normal_interval_bootstrap(df.metric,  return_bounds=False, n_bootstraps = 100, random=100)[2],\n",
    "        ci_bootstrap(df.metric, return_bounds=False)[2],\n",
    "        calculate_ci(df.metric)]\n"
   ]
  },
  {
   "cell_type": "code",
   "execution_count": null,
   "metadata": {},
   "outputs": [],
   "source": [
    "fig = go.Figure(data=go.Scatter( # Bar or Scatter\n",
    "        y=methods,\n",
    "        x=means,\n",
    "        error_x=dict(\n",
    "            type='data', \n",
    "            symmetric=False,\n",
    "            array=upper,\n",
    "            arrayminus=lower)\n",
    "    )\n",
    "                , layout ={ \"title\": f'Bootstrap Samples = {n_bootstraps}'\n",
    "                           ,\"width\": 800\n",
    "#                            , \"yaxis\": {\"range\": [19.5,20]}\n",
    "                          }\n",
    "                           )\n",
    "# fig.update_layout(\n",
    "#     shapes=[\n",
    "#         dict(type=\"line\", xref=\"x1\", yref=\"y1\",\n",
    "#             x0=population_mean, y0=0, x1=population_mean, y1=4, line_width=4, dash=\"dashdot\")])\n",
    "\n",
    "\n",
    "fig.add_shape(\n",
    "        # Line Vertical\n",
    "        dict(\n",
    "            type=\"line\",\n",
    "            x0=population_mean,\n",
    "            y0=0,\n",
    "            x1=population_mean,\n",
    "            y1=5,\n",
    "            name=\"Positive\",\n",
    "            line=dict(\n",
    "                color=\"LightSeaGreen\",\n",
    "                width=3,dash=\"dashdot\"\n",
    "            )))\n",
    "\n",
    "fig.add_trace(go.Scatter(\n",
    "    x=[population_mean],\n",
    "    y=[''],\n",
    "    text=[\"Population mean\"],\n",
    "    mode=\"text\",\n",
    "))\n",
    "\n",
    "fig.update_layout(height=640)\n",
    "fig.update_layout(showlegend=False)\n",
    "        \n",
    "fig.show()"
   ]
  },
  {
   "cell_type": "code",
   "execution_count": null,
   "metadata": {},
   "outputs": [],
   "source": [
    "results = pd.DataFrame([methods, means, lower, upper]).transpose()\n",
    "results.columns = ['method', 'mean', 'lower', 'upper']\n",
    "results"
   ]
  },
  {
   "cell_type": "code",
   "execution_count": null,
   "metadata": {},
   "outputs": [],
   "source": [
    "# TO DO\n",
    "# compare how it decreases with incresing bootstrap numbers\n",
    "# another approach to take random"
   ]
  },
  {
   "cell_type": "markdown",
   "metadata": {},
   "source": [
    "## Experiment with bootsrtap sample numbers"
   ]
  },
  {
   "cell_type": "code",
   "execution_count": null,
   "metadata": {
    "scrolled": false
   },
   "outputs": [],
   "source": [
    "# try different bootsrtap sample numbers\n",
    "for n_bootstraps in [50, 100, 200, 500, 1000]:\n",
    "\n",
    "    means = [obs_mean, obs_mean, obs_mean, ci_bootstrap(df.metric)[0], obs_mean]\n",
    "\n",
    "    lower = [empirical_bootstrap(df.metric, obs_mean, return_bounds=False, n_bootstraps = n_bootstraps)[0],\n",
    "            percentile_bootstrap(df.metric, obs_mean, return_bounds=False, n_bootstraps = n_bootstraps, random=100)[0],\n",
    "            normal_interval_bootstrap(df.metric, return_bounds=False, n_bootstraps=n_bootstraps)[1],\n",
    "             ci_bootstrap(df.metric, return_bounds=False, n_bootstraps=n_bootstraps)[1],\n",
    "            calculate_ci(df.metric)]\n",
    "\n",
    "    upper = [empirical_bootstrap(df.metric, obs_mean, return_bounds=False, n_bootstraps = n_bootstraps)[1],\n",
    "            percentile_bootstrap(df.metric, obs_mean, return_bounds=False, n_bootstraps = n_bootstraps, random=100)[1],\n",
    "            normal_interval_bootstrap(df.metric, return_bounds=False, n_bootstraps=n_bootstraps)[2],\n",
    "             ci_bootstrap(df.metric, return_bounds=False, n_bootstraps=n_bootstraps)[2],\n",
    "            calculate_ci(df.metric)]\n",
    "    fig = go.Figure(data=go.Scatter( # Bar or Scatter\n",
    "        y=methods,\n",
    "        x=means,\n",
    "            error_x=dict(\n",
    "                type='data', \n",
    "                symmetric=False,\n",
    "                array=upper,\n",
    "                arrayminus=lower)\n",
    "        )\n",
    "                    , layout ={ \"title\": f'Bootstrap Samples = {n_bootstraps}'\n",
    "                               ,\"width\": 800\n",
    "                               , \"xaxis\": {\"range\": [19.2,20]}\n",
    "                              }\n",
    "                               )\n",
    "\n",
    "    fig.add_shape(\n",
    "        # Line Vertical\n",
    "        dict(\n",
    "            type=\"line\",\n",
    "            x0=population_mean,\n",
    "            y0=0,\n",
    "            x1=population_mean,\n",
    "            y1=5,\n",
    "            name=\"Positive\",\n",
    "            line=dict(\n",
    "                color=\"LightSeaGreen\",\n",
    "                width=3,dash=\"dashdot\"\n",
    "            )))\n",
    "    \n",
    "    fig.add_trace(go.Scatter(\n",
    "        x=[population_mean],\n",
    "        y=[''],\n",
    "        text=[\"Population mean\"],\n",
    "        mode=\"text\",\n",
    "    ))\n",
    "    fig.update_layout(height=640)\n",
    "    fig.update_layout(showlegend=False)\n",
    "    \n",
    "    fig.show()\n",
    "    results = pd.DataFrame([methods, means, lower, upper]).transpose()\n",
    "    results.columns = ['method', 'mean', 'lower', 'upper']\n",
    "#     display(results)"
   ]
  },
  {
   "cell_type": "markdown",
   "metadata": {},
   "source": [
    "## Experiment with different sample size"
   ]
  },
  {
   "cell_type": "code",
   "execution_count": null,
   "metadata": {
    "scrolled": false
   },
   "outputs": [],
   "source": [
    "# experiment with different sample size\n",
    "for size in [50, 100, 500, 1000, 10000, 20000]:\n",
    "    n_bootstraps = 500\n",
    "    df = df_all.sample(n=size).reset_index(drop=True).rename(columns={'total_amount':'metric'})\n",
    "    obs_mean = df.metric.mean()\n",
    "    \n",
    "    means = [obs_mean, obs_mean, obs_mean, ci_bootstrap(df.metric)[0], obs_mean]\n",
    "\n",
    "    lower = [empirical_bootstrap(df.metric, obs_mean, return_bounds=False, n_bootstraps = n_bootstraps)[0],\n",
    "            percentile_bootstrap(df.metric, obs_mean, return_bounds=False, n_bootstraps = n_bootstraps, random=100)[0],\n",
    "            normal_interval_bootstrap(df.metric, return_bounds=False, n_bootstraps=n_bootstraps)[1],\n",
    "             ci_bootstrap(df.metric, return_bounds=False, n_bootstraps=n_bootstraps)[1],\n",
    "            calculate_ci(df.metric)]\n",
    "\n",
    "    upper = [empirical_bootstrap(df.metric, obs_mean, return_bounds=False, n_bootstraps = n_bootstraps)[1],\n",
    "            percentile_bootstrap(df.metric, obs_mean, return_bounds=False, n_bootstraps = n_bootstraps, random=100)[1],\n",
    "            normal_interval_bootstrap(df.metric, return_bounds=False, n_bootstraps=n_bootstraps)[2],\n",
    "             ci_bootstrap(df.metric, return_bounds=False, n_bootstraps=n_bootstraps)[2],\n",
    "            calculate_ci(df.metric)]\n",
    "    fig = go.Figure(data=go.Scatter( # Bar or Scatter\n",
    "        y=methods,\n",
    "        x=means,\n",
    "            error_x=dict(\n",
    "                type='data', \n",
    "                symmetric=False,\n",
    "                array=upper,\n",
    "                arrayminus=lower)\n",
    "        )\n",
    "                    , layout ={ \"title\": f'Samples in data = {size}'\n",
    "                               ,\"width\": 800\n",
    "                               , \"xaxis\": {\"range\": [13,24]}\n",
    "                              }\n",
    "                               )\n",
    "\n",
    "    fig.add_shape(\n",
    "        # Line Vertical\n",
    "        dict(\n",
    "            type=\"line\",\n",
    "            x0=population_mean,\n",
    "            y0=0,\n",
    "            x1=population_mean,\n",
    "            y1=5,\n",
    "            name=\"Positive\",\n",
    "            line=dict(\n",
    "                color=\"LightSeaGreen\",\n",
    "                width=3,dash=\"dashdot\"\n",
    "            )))\n",
    "    \n",
    "    fig.add_trace(go.Scatter(\n",
    "        x=[population_mean],\n",
    "        y=[''],\n",
    "        text=[\"Population mean\"],\n",
    "        mode=\"text\",\n",
    "    ))\n",
    "    fig.update_layout(height=640)\n",
    "    fig.update_layout(showlegend=False)\n",
    "    \n",
    "    fig.show()\n",
    "    results = pd.DataFrame([methods, means, lower, upper]).transpose()\n",
    "    results.columns = ['method', 'mean', 'lower', 'upper']\n",
    "#     display(results)"
   ]
  },
  {
   "cell_type": "code",
   "execution_count": null,
   "metadata": {
    "scrolled": false
   },
   "outputs": [],
   "source": [
    "# experiment with different sample size\n",
    "for size in [50, 100, 500, 1000, 5000, 10000, 20000]:\n",
    "    n_bootstraps = 50\n",
    "    df = df_all.sample(n=size).reset_index(drop=True).rename(columns={'total_amount':'metric'})\n",
    "    obs_mean = df.metric.mean()\n",
    "    \n",
    "    means = [obs_mean, obs_mean, obs_mean, ci_bootstrap(df.metric)[0], obs_mean]\n",
    "\n",
    "    lower = [empirical_bootstrap(df.metric, obs_mean, return_bounds=False, n_bootstraps = n_bootstraps)[0],\n",
    "            percentile_bootstrap(df.metric, obs_mean, return_bounds=False, n_bootstraps = n_bootstraps, random=100)[0],\n",
    "            normal_interval_bootstrap(df.metric, return_bounds=False, n_bootstraps=n_bootstraps)[1],\n",
    "             ci_bootstrap(df.metric, return_bounds=False, n_bootstraps=n_bootstraps)[1],\n",
    "            calculate_ci(df.metric)]\n",
    "\n",
    "    upper = [empirical_bootstrap(df.metric, obs_mean, return_bounds=False, n_bootstraps = n_bootstraps)[1],\n",
    "            percentile_bootstrap(df.metric, obs_mean, return_bounds=False, n_bootstraps = n_bootstraps, random=100)[1],\n",
    "            normal_interval_bootstrap(df.metric, return_bounds=False, n_bootstraps=n_bootstraps)[2],\n",
    "             ci_bootstrap(df.metric, return_bounds=False, n_bootstraps=n_bootstraps)[2],\n",
    "            calculate_ci(df.metric)]\n",
    "    fig = go.Figure(data=go.Scatter( # Bar or Scatter\n",
    "        y=methods,\n",
    "        x=means,\n",
    "            error_x=dict(\n",
    "                type='data', \n",
    "                symmetric=False,\n",
    "                array=upper,\n",
    "                arrayminus=lower)\n",
    "        )\n",
    "                    , layout ={ \"title\": f'Samples in data = {size}'\n",
    "                               ,\"width\": 800\n",
    "                               , \"xaxis\": {\"range\": [13,24]}\n",
    "                              }\n",
    "                               )\n",
    "\n",
    "    fig.add_shape(\n",
    "        # Line Vertical\n",
    "        dict(\n",
    "            type=\"line\",\n",
    "            x0=population_mean,\n",
    "            y0=0,\n",
    "            x1=population_mean,\n",
    "            y1=5,\n",
    "            name=\"Positive\",\n",
    "            line=dict(\n",
    "                color=\"LightSeaGreen\",\n",
    "                width=3,dash=\"dashdot\"\n",
    "            )))\n",
    "    \n",
    "    fig.add_trace(go.Scatter(\n",
    "        x=[population_mean],\n",
    "        y=[''],\n",
    "        text=[\"Population mean\"],\n",
    "        mode=\"text\",\n",
    "    ))\n",
    "    fig.update_layout(height=640)\n",
    "    fig.update_layout(showlegend=False)\n",
    "    \n",
    "    fig.show()\n",
    "    results = pd.DataFrame([methods, means, lower, upper]).transpose()\n",
    "    results.columns = ['method', 'mean', 'lower', 'upper']\n",
    "#     display(results)"
   ]
  },
  {
   "cell_type": "code",
   "execution_count": null,
   "metadata": {
    "scrolled": false
   },
   "outputs": [],
   "source": [
    "# experiment with different sample size\n",
    "\n",
    "for size in [50, 100, 500, 1000, 5000, 10000, 20000]:\n",
    "    for n in [50,100, 500, 1000]:\n",
    "        n_bootstraps = n\n",
    "        df = df_all.sample(n=size, random_state=size+2).reset_index(drop=True).rename(columns={'total_amount':'metric'})\n",
    "        obs_mean = df.metric.mean()\n",
    "\n",
    "        means = [obs_mean, obs_mean, obs_mean, ci_bootstrap(df.metric)[0], obs_mean]\n",
    "\n",
    "        lower = [empirical_bootstrap(df.metric, obs_mean, return_bounds=False, n_bootstraps = n_bootstraps)[0],\n",
    "                percentile_bootstrap(df.metric, obs_mean, return_bounds=False, n_bootstraps = n_bootstraps, random=100)[0],\n",
    "                normal_interval_bootstrap(df.metric, return_bounds=False, n_bootstraps=n_bootstraps)[1],\n",
    "                 ci_bootstrap(df.metric, return_bounds=False, n_bootstraps=n_bootstraps)[1],\n",
    "                calculate_ci(df.metric)]\n",
    "\n",
    "        upper = [empirical_bootstrap(df.metric, obs_mean, return_bounds=False, n_bootstraps = n_bootstraps)[1],\n",
    "                percentile_bootstrap(df.metric, obs_mean, return_bounds=False, n_bootstraps = n_bootstraps, random=100)[1],\n",
    "                normal_interval_bootstrap(df.metric, return_bounds=False, n_bootstraps=n_bootstraps)[2],\n",
    "                 ci_bootstrap(df.metric, return_bounds=False, n_bootstraps=n_bootstraps)[2],\n",
    "                calculate_ci(df.metric)]\n",
    "        fig = go.Figure(data=go.Scatter( # Bar or Scatter\n",
    "            y=methods,\n",
    "            x=means,\n",
    "                error_x=dict(\n",
    "                    type='data', \n",
    "                    symmetric=False,\n",
    "                    array=upper,\n",
    "                    arrayminus=lower)\n",
    "            )\n",
    "                        , layout ={ \"title\": f'Samples in data = {size} with {n} bootstraps'\n",
    "                                   ,\"width\": 800\n",
    "#                                    , \"xaxis\": {\"range\": [13,24]}\n",
    "                                  }\n",
    "                                   )\n",
    "\n",
    "        fig.add_shape(\n",
    "            # Line Vertical\n",
    "            dict(\n",
    "                type=\"line\",\n",
    "                x0=population_mean,\n",
    "                y0=0,\n",
    "                x1=population_mean,\n",
    "                y1=5,\n",
    "                name=\"Positive\",\n",
    "                line=dict(\n",
    "                    color=\"LightSeaGreen\",\n",
    "                    width=3,dash=\"dashdot\"\n",
    "                )))\n",
    "\n",
    "        fig.add_trace(go.Scatter(\n",
    "            x=[population_mean],\n",
    "            y=[''],\n",
    "            text=[\"Population mean\"],\n",
    "            mode=\"text\",\n",
    "        ))\n",
    "        fig.update_layout(height=640)\n",
    "        fig.update_layout(showlegend=False)\n",
    "\n",
    "        fig.show()\n",
    "        results = pd.DataFrame([methods, means, lower, upper]).transpose()\n",
    "        results.columns = ['method', 'mean', 'lower', 'upper']\n",
    "    #     display(results)"
   ]
  },
  {
   "cell_type": "code",
   "execution_count": null,
   "metadata": {},
   "outputs": [],
   "source": [
    "# [why percentile and empirical is very similar in notebook, add original data distribution]"
   ]
  }
 ],
 "metadata": {
  "hide_input": false,
  "kernelspec": {
   "display_name": "Python 3",
   "language": "python",
   "name": "python3"
  },
  "language_info": {
   "codemirror_mode": {
    "name": "ipython",
    "version": 3
   },
   "file_extension": ".py",
   "mimetype": "text/x-python",
   "name": "python",
   "nbconvert_exporter": "python",
   "pygments_lexer": "ipython3",
   "version": "3.7.1"
  },
  "varInspector": {
   "cols": {
    "lenName": 16,
    "lenType": 16,
    "lenVar": 40
   },
   "kernels_config": {
    "python": {
     "delete_cmd_postfix": "",
     "delete_cmd_prefix": "del ",
     "library": "var_list.py",
     "varRefreshCmd": "print(var_dic_list())"
    },
    "r": {
     "delete_cmd_postfix": ") ",
     "delete_cmd_prefix": "rm(",
     "library": "var_list.r",
     "varRefreshCmd": "cat(var_dic_list()) "
    }
   },
   "types_to_exclude": [
    "module",
    "function",
    "builtin_function_or_method",
    "instance",
    "_Feature"
   ],
   "window_display": false
  }
 },
 "nbformat": 4,
 "nbformat_minor": 2
}
